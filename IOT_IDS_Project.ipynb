{
  "nbformat": 4,
  "nbformat_minor": 0,
  "metadata": {
    "colab": {
      "name": "IOT IDS Project.ipynb",
      "provenance": [],
      "collapsed_sections": [
        "CzslB0oo6xII",
        "cN-sA0o67VXC",
        "dwJ9tACHcUuV"
      ],
      "toc_visible": true,
      "authorship_tag": "ABX9TyO7A+GnlvHSGBPtiAFpGWaM",
      "include_colab_link": true
    },
    "kernelspec": {
      "name": "python3",
      "display_name": "Python 3"
    },
    "accelerator": "GPU"
  },
  "cells": [
    {
      "cell_type": "markdown",
      "metadata": {
        "id": "view-in-github",
        "colab_type": "text"
      },
      "source": [
        "<a href=\"https://colab.research.google.com/github/RUBAIATH-E-ULFATH/IOT-Intrusion-Detection-System-using-Deep-Learning/blob/main/IOT_IDS_Project.ipynb\" target=\"_parent\"><img src=\"https://colab.research.google.com/assets/colab-badge.svg\" alt=\"Open In Colab\"/></a>"
      ]
    },
    {
      "cell_type": "markdown",
      "metadata": {
        "id": "CzslB0oo6xII"
      },
      "source": [
        "# Load Dataset & Import Necessary Modules\n",
        "\n"
      ]
    },
    {
      "cell_type": "markdown",
      "metadata": {
        "id": "rOfLHl1AUXuX"
      },
      "source": [
        ""
      ]
    },
    {
      "cell_type": "markdown",
      "metadata": {
        "id": "a7BAjdCheYmc"
      },
      "source": [
        "### Load Dataset "
      ]
    },
    {
      "cell_type": "code",
      "metadata": {
        "colab": {
          "base_uri": "https://localhost:8080/"
        },
        "id": "yJpTVEHeys1a",
        "outputId": "56576867-349b-476a-cbdd-23cf69ec2ed9"
      },
      "source": [
        "from google.colab import drive\n",
        "drive.mount('/content/drive')\n"
      ],
      "execution_count": null,
      "outputs": [
        {
          "output_type": "stream",
          "text": [
            "Mounted at /content/drive\n"
          ],
          "name": "stdout"
        }
      ]
    },
    {
      "cell_type": "code",
      "metadata": {
        "colab": {
          "base_uri": "https://localhost:8080/"
        },
        "id": "TA1OKFXw7GUb",
        "outputId": "15177fa9-3437-4bb2-aaed-4f47a7327a33"
      },
      "source": [
        "### UNZIP\n",
        "!unzip \"/content/drive/MyDrive/CIDDS-001-internal-week1.zip\" -d \"/content\""
      ],
      "execution_count": null,
      "outputs": [
        {
          "output_type": "stream",
          "text": [
            "Archive:  /content/drive/MyDrive/CIDDS-001-internal-week1.zip\n",
            "  inflating: /content/CIDDS-001-internal-week1.csv  \n"
          ],
          "name": "stdout"
        }
      ]
    },
    {
      "cell_type": "markdown",
      "metadata": {
        "id": "mUiqlWUxeclc"
      },
      "source": [
        "### Import Modules"
      ]
    },
    {
      "cell_type": "code",
      "metadata": {
        "id": "4IN1XhbhE8GK"
      },
      "source": [
        "import warnings\n",
        "warnings.filterwarnings('ignore')\n",
        "\n",
        "import os\n",
        "import random\n",
        "import numpy as np\n",
        "import pandas as pd\n",
        "from tqdm import tqdm_notebook as tqdm \n",
        "from skimage.io import imread, imshow\n",
        "from skimage.transform import resize\n",
        "from sklearn.model_selection import train_test_split\n",
        "import matplotlib.pyplot as plt\n",
        "import cv2\n",
        "\n",
        "from keras.utils import to_categorical\n",
        "from keras.models import Model, load_model\n",
        "import tensorflow as tf\n",
        "from tensorflow import keras\n",
        "from keras.layers import Dense, Input, InputLayer, Flatten, LeakyReLU, SeparableConv2D, Activation,Conv2D , MaxPool2D  , Dropout , BatchNormalization, concatenate, Conv2DTranspose, MaxPooling2D\n",
        "from keras.models import Sequential, Model\n",
        "from keras.optimizers import Adam, SGD, Adagrad\n",
        "from keras.preprocessing.image import ImageDataGenerator, img_to_array\n",
        "from keras.callbacks import ReduceLROnPlateau\n"
      ],
      "execution_count": null,
      "outputs": []
    },
    {
      "cell_type": "code",
      "metadata": {
        "id": "M633o0RnI_9X"
      },
      "source": [
        "df=pd.read_csv('/content/drive/MyDrive/phishing_dataset.csv')"
      ],
      "execution_count": null,
      "outputs": []
    },
    {
      "cell_type": "markdown",
      "metadata": {
        "id": "cN-sA0o67VXC"
      },
      "source": [
        "# Exploratory Data Analysis (EDA)"
      ]
    },
    {
      "cell_type": "code",
      "metadata": {
        "colab": {
          "base_uri": "https://localhost:8080/",
          "height": 306
        },
        "id": "SsUdPsqjMgJT",
        "outputId": "35e7804b-6aaa-4b5c-cda6-0ea91ee20b8e"
      },
      "source": [
        "df.head(5)"
      ],
      "execution_count": null,
      "outputs": [
        {
          "output_type": "execute_result",
          "data": {
            "text/html": [
              "<div>\n",
              "<style scoped>\n",
              "    .dataframe tbody tr th:only-of-type {\n",
              "        vertical-align: middle;\n",
              "    }\n",
              "\n",
              "    .dataframe tbody tr th {\n",
              "        vertical-align: top;\n",
              "    }\n",
              "\n",
              "    .dataframe thead th {\n",
              "        text-align: right;\n",
              "    }\n",
              "</style>\n",
              "<table border=\"1\" class=\"dataframe\">\n",
              "  <thead>\n",
              "    <tr style=\"text-align: right;\">\n",
              "      <th></th>\n",
              "      <th>Date first seen</th>\n",
              "      <th>Duration</th>\n",
              "      <th>Proto</th>\n",
              "      <th>Src IP Addr</th>\n",
              "      <th>Src Pt</th>\n",
              "      <th>Dst IP Addr</th>\n",
              "      <th>Dst Pt</th>\n",
              "      <th>Packets</th>\n",
              "      <th>Bytes</th>\n",
              "      <th>Flows</th>\n",
              "      <th>Flags</th>\n",
              "      <th>Tos</th>\n",
              "      <th>class</th>\n",
              "      <th>attackType</th>\n",
              "      <th>attackID</th>\n",
              "      <th>attackDescription</th>\n",
              "    </tr>\n",
              "  </thead>\n",
              "  <tbody>\n",
              "    <tr>\n",
              "      <th>0</th>\n",
              "      <td>2017-03-15 00:01:16.632</td>\n",
              "      <td>0.000</td>\n",
              "      <td>TCP</td>\n",
              "      <td>192.168.100.5</td>\n",
              "      <td>445</td>\n",
              "      <td>192.168.220.16</td>\n",
              "      <td>58844.0</td>\n",
              "      <td>1</td>\n",
              "      <td>108</td>\n",
              "      <td>1</td>\n",
              "      <td>.AP...</td>\n",
              "      <td>0</td>\n",
              "      <td>normal</td>\n",
              "      <td>---</td>\n",
              "      <td>---</td>\n",
              "      <td>---</td>\n",
              "    </tr>\n",
              "    <tr>\n",
              "      <th>1</th>\n",
              "      <td>2017-03-15 00:01:16.552</td>\n",
              "      <td>0.000</td>\n",
              "      <td>TCP</td>\n",
              "      <td>192.168.100.5</td>\n",
              "      <td>445</td>\n",
              "      <td>192.168.220.15</td>\n",
              "      <td>48888.0</td>\n",
              "      <td>1</td>\n",
              "      <td>108</td>\n",
              "      <td>1</td>\n",
              "      <td>.AP...</td>\n",
              "      <td>0</td>\n",
              "      <td>normal</td>\n",
              "      <td>---</td>\n",
              "      <td>---</td>\n",
              "      <td>---</td>\n",
              "    </tr>\n",
              "    <tr>\n",
              "      <th>2</th>\n",
              "      <td>2017-03-15 00:01:16.551</td>\n",
              "      <td>0.004</td>\n",
              "      <td>TCP</td>\n",
              "      <td>192.168.220.15</td>\n",
              "      <td>48888</td>\n",
              "      <td>192.168.100.5</td>\n",
              "      <td>445.0</td>\n",
              "      <td>2</td>\n",
              "      <td>174</td>\n",
              "      <td>1</td>\n",
              "      <td>.AP...</td>\n",
              "      <td>0</td>\n",
              "      <td>normal</td>\n",
              "      <td>---</td>\n",
              "      <td>---</td>\n",
              "      <td>---</td>\n",
              "    </tr>\n",
              "    <tr>\n",
              "      <th>3</th>\n",
              "      <td>2017-03-15 00:01:16.631</td>\n",
              "      <td>0.004</td>\n",
              "      <td>TCP</td>\n",
              "      <td>192.168.220.16</td>\n",
              "      <td>58844</td>\n",
              "      <td>192.168.100.5</td>\n",
              "      <td>445.0</td>\n",
              "      <td>2</td>\n",
              "      <td>174</td>\n",
              "      <td>1</td>\n",
              "      <td>.AP...</td>\n",
              "      <td>0</td>\n",
              "      <td>normal</td>\n",
              "      <td>---</td>\n",
              "      <td>---</td>\n",
              "      <td>---</td>\n",
              "    </tr>\n",
              "    <tr>\n",
              "      <th>4</th>\n",
              "      <td>2017-03-15 00:01:16.552</td>\n",
              "      <td>0.000</td>\n",
              "      <td>TCP</td>\n",
              "      <td>192.168.100.5</td>\n",
              "      <td>445</td>\n",
              "      <td>192.168.220.15</td>\n",
              "      <td>48888.0</td>\n",
              "      <td>1</td>\n",
              "      <td>108</td>\n",
              "      <td>1</td>\n",
              "      <td>.AP...</td>\n",
              "      <td>0</td>\n",
              "      <td>normal</td>\n",
              "      <td>---</td>\n",
              "      <td>---</td>\n",
              "      <td>---</td>\n",
              "    </tr>\n",
              "  </tbody>\n",
              "</table>\n",
              "</div>"
            ],
            "text/plain": [
              "           Date first seen  Duration  ... attackID attackDescription\n",
              "0  2017-03-15 00:01:16.632     0.000  ...      ---               ---\n",
              "1  2017-03-15 00:01:16.552     0.000  ...      ---               ---\n",
              "2  2017-03-15 00:01:16.551     0.004  ...      ---               ---\n",
              "3  2017-03-15 00:01:16.631     0.004  ...      ---               ---\n",
              "4  2017-03-15 00:01:16.552     0.000  ...      ---               ---\n",
              "\n",
              "[5 rows x 16 columns]"
            ]
          },
          "metadata": {
            "tags": []
          },
          "execution_count": 6
        }
      ]
    },
    {
      "cell_type": "markdown",
      "metadata": {
        "id": "-1XHTFZp8AMp"
      },
      "source": [
        "### Predictor & Target Variable Split"
      ]
    },
    {
      "cell_type": "code",
      "metadata": {
        "id": "hjjPCi2jybYa"
      },
      "source": [
        ""
      ],
      "execution_count": null,
      "outputs": []
    },
    {
      "cell_type": "code",
      "metadata": {
        "id": "90n6La1XQK9c"
      },
      "source": [
        "X=df.iloc[:,1:12]\n",
        "y=df[['class']]"
      ],
      "execution_count": null,
      "outputs": []
    },
    {
      "cell_type": "markdown",
      "metadata": {
        "id": "NuUZ8emB8Rfm"
      },
      "source": [
        "### Feature Engineering"
      ]
    },
    {
      "cell_type": "code",
      "metadata": {
        "colab": {
          "base_uri": "https://localhost:8080/"
        },
        "id": "hEJD0J3zZWRz",
        "outputId": "74da72c8-75c2-4e88-bb9b-f6444055d12c"
      },
      "source": [
        "X.info()"
      ],
      "execution_count": null,
      "outputs": [
        {
          "output_type": "stream",
          "text": [
            "<class 'pandas.core.frame.DataFrame'>\n",
            "RangeIndex: 8451520 entries, 0 to 8451519\n",
            "Data columns (total 11 columns):\n",
            " #   Column       Dtype  \n",
            "---  ------       -----  \n",
            " 0   Duration     float64\n",
            " 1   Proto        object \n",
            " 2   Src IP Addr  object \n",
            " 3   Src Pt       int64  \n",
            " 4   Dst IP Addr  object \n",
            " 5   Dst Pt       float64\n",
            " 6   Packets      int64  \n",
            " 7   Bytes        object \n",
            " 8   Flows        int64  \n",
            " 9   Flags        object \n",
            " 10  Tos          int64  \n",
            "dtypes: float64(2), int64(4), object(5)\n",
            "memory usage: 709.3+ MB\n"
          ],
          "name": "stdout"
        }
      ]
    },
    {
      "cell_type": "code",
      "metadata": {
        "id": "FFtcXRng3Zss"
      },
      "source": [
        "X = X.drop(columns=['Src IP Addr', 'Dst IP Addr', 'Src Pt', 'Bytes']) # Feature Selection"
      ],
      "execution_count": null,
      "outputs": []
    },
    {
      "cell_type": "code",
      "metadata": {
        "colab": {
          "base_uri": "https://localhost:8080/"
        },
        "id": "4Ym2eFgl3Z6T",
        "outputId": "83a12a7b-5f1f-42e8-f21d-ddec25fd8a1d"
      },
      "source": [
        "X.info()"
      ],
      "execution_count": null,
      "outputs": [
        {
          "output_type": "stream",
          "text": [
            "<class 'pandas.core.frame.DataFrame'>\n",
            "RangeIndex: 8451520 entries, 0 to 8451519\n",
            "Data columns (total 7 columns):\n",
            " #   Column    Dtype  \n",
            "---  ------    -----  \n",
            " 0   Duration  float64\n",
            " 1   Proto     object \n",
            " 2   Dst Pt    float64\n",
            " 3   Packets   int64  \n",
            " 4   Flows     int64  \n",
            " 5   Flags     object \n",
            " 6   Tos       int64  \n",
            "dtypes: float64(2), int64(3), object(2)\n",
            "memory usage: 451.4+ MB\n"
          ],
          "name": "stdout"
        }
      ]
    },
    {
      "cell_type": "code",
      "metadata": {
        "id": "CDSeTEXE11vi"
      },
      "source": [
        "# X['Src IP Addr'].value_counts()"
      ],
      "execution_count": null,
      "outputs": []
    },
    {
      "cell_type": "code",
      "metadata": {
        "colab": {
          "base_uri": "https://localhost:8080/"
        },
        "id": "J_tOoQNtZWhT",
        "outputId": "4f0572ad-797f-4cf6-b459-6c05f469a98f"
      },
      "source": [
        "y.info()"
      ],
      "execution_count": null,
      "outputs": [
        {
          "output_type": "stream",
          "text": [
            "<class 'pandas.core.frame.DataFrame'>\n",
            "RangeIndex: 8451520 entries, 0 to 8451519\n",
            "Data columns (total 1 columns):\n",
            " #   Column  Dtype \n",
            "---  ------  ----- \n",
            " 0   class   object\n",
            "dtypes: object(1)\n",
            "memory usage: 64.5+ MB\n"
          ],
          "name": "stdout"
        }
      ]
    },
    {
      "cell_type": "code",
      "metadata": {
        "id": "H4DdlFtsZWy8",
        "colab": {
          "base_uri": "https://localhost:8080/"
        },
        "outputId": "5e9ca968-9ae5-4683-8916-0d3ba9ffae30"
      },
      "source": [
        "y[\"class\"].value_counts() # Need of one hot encoding to 3 classes"
      ],
      "execution_count": null,
      "outputs": [
        {
          "output_type": "execute_result",
          "data": {
            "text/plain": [
              "normal      7010897\n",
              "attacker     746230\n",
              "victim       694393\n",
              "Name: class, dtype: int64"
            ]
          },
          "metadata": {
            "tags": []
          },
          "execution_count": 8
        }
      ]
    },
    {
      "cell_type": "code",
      "metadata": {
        "id": "ziF_nTlMZW8G",
        "colab": {
          "base_uri": "https://localhost:8080/"
        },
        "outputId": "3d7a2f6d-0da9-4612-a9df-b69f984c8483"
      },
      "source": [
        "X[\"Flags\"].value_counts() # Label Encoding Needed"
      ],
      "execution_count": null,
      "outputs": [
        {
          "output_type": "execute_result",
          "data": {
            "text/plain": [
              "4     2652182\n",
              "0     1057702\n",
              "12    1049867\n",
              "14     848656\n",
              "15     834847\n",
              "7      638075\n",
              "5      613708\n",
              "13     254596\n",
              "6      200000\n",
              "1      114749\n",
              "8       82399\n",
              "2       46718\n",
              "17      29520\n",
              "9        9743\n",
              "16       5810\n",
              "19       4821\n",
              "18       3850\n",
              "3        3174\n",
              "10        821\n",
              "11        282\n",
              "Name: Flags, dtype: int64"
            ]
          },
          "metadata": {
            "tags": []
          },
          "execution_count": 25
        }
      ]
    },
    {
      "cell_type": "code",
      "metadata": {
        "id": "_FpbpzOXZXEy",
        "colab": {
          "base_uri": "https://localhost:8080/"
        },
        "outputId": "29070563-5b22-45ff-9291-9aa578a2e9ac"
      },
      "source": [
        "X[\"Proto\"].value_counts() # Label Encoding Needed"
      ],
      "execution_count": null,
      "outputs": [
        {
          "output_type": "execute_result",
          "data": {
            "text/plain": [
              "TCP      7393818\n",
              "UDP      1047279\n",
              "ICMP       10177\n",
              "IGMP         246\n",
              "Name: Proto, dtype: int64"
            ]
          },
          "metadata": {
            "tags": []
          },
          "execution_count": 11
        }
      ]
    },
    {
      "cell_type": "code",
      "metadata": {
        "colab": {
          "base_uri": "https://localhost:8080/"
        },
        "id": "n8qA9INOwRA9",
        "outputId": "67ec3d0a-d627-445f-e352-0bbc891bd3e2"
      },
      "source": [
        "X['Bytes'].value_counts()"
      ],
      "execution_count": null,
      "outputs": [
        {
          "output_type": "execute_result",
          "data": {
            "text/plain": [
              "      66    2256100\n",
              "      54     359338\n",
              "      55     293995\n",
              "     108     263026\n",
              "206          236488\n",
              "             ...   \n",
              "  140353          1\n",
              "  145314          1\n",
              "  117580          1\n",
              "  315463          1\n",
              "   32528          1\n",
              "Name: Bytes, Length: 94131, dtype: int64"
            ]
          },
          "metadata": {
            "tags": []
          },
          "execution_count": 12
        }
      ]
    },
    {
      "cell_type": "code",
      "metadata": {
        "id": "aKB3Ew1NZXVC",
        "colab": {
          "base_uri": "https://localhost:8080/"
        },
        "outputId": "4444a445-0ab5-45d0-da44-f589fd4982f5"
      },
      "source": [
        "X['Src Pt'].value_counts()"
      ],
      "execution_count": null,
      "outputs": [
        {
          "output_type": "execute_result",
          "data": {
            "text/plain": [
              "80       1872487\n",
              "443      1492927\n",
              "53        492201\n",
              "445       147006\n",
              "8082       56116\n",
              "          ...   \n",
              "61717          5\n",
              "63616          4\n",
              "3480           2\n",
              "3478           2\n",
              "19302          1\n",
              "Name: Src Pt, Length: 33689, dtype: int64"
            ]
          },
          "metadata": {
            "tags": []
          },
          "execution_count": 13
        }
      ]
    },
    {
      "cell_type": "markdown",
      "metadata": {
        "id": "Kf8Q5I1b2ETN"
      },
      "source": [
        "### Label Encoding"
      ]
    },
    {
      "cell_type": "code",
      "metadata": {
        "id": "5YjtwXs114Ao"
      },
      "source": [
        "from sklearn.preprocessing import LabelEncoder\n"
      ],
      "execution_count": null,
      "outputs": []
    },
    {
      "cell_type": "code",
      "metadata": {
        "id": "cZ5DtOme14MJ"
      },
      "source": [
        "X['Flags'] = LabelEncoder().fit_transform(X['Flags'])"
      ],
      "execution_count": null,
      "outputs": []
    },
    {
      "cell_type": "code",
      "metadata": {
        "id": "STSLAl9J14P9"
      },
      "source": [
        "X['Proto'] = LabelEncoder().fit_transform(X['Proto'])"
      ],
      "execution_count": null,
      "outputs": []
    },
    {
      "cell_type": "code",
      "metadata": {
        "id": "PDlgAVp014UN"
      },
      "source": [
        "y['class'] = LabelEncoder().fit_transform(y['class'])"
      ],
      "execution_count": null,
      "outputs": []
    },
    {
      "cell_type": "markdown",
      "metadata": {
        "id": "SqvxkStw15eo"
      },
      "source": [
        "### Split Train - Test - Valdiation Set"
      ]
    },
    {
      "cell_type": "code",
      "metadata": {
        "id": "5Tfl6nvJPRIY"
      },
      "source": [
        " "
      ],
      "execution_count": null,
      "outputs": []
    },
    {
      "cell_type": "code",
      "metadata": {
        "id": "vcIAm90GQI3P"
      },
      "source": [
        "X_train, X_dev, y_train, y_dev = train_test_split(X_train, y_train, test_size=0.15, random_state=15, stratify= y_train)"
      ],
      "execution_count": null,
      "outputs": []
    },
    {
      "cell_type": "code",
      "metadata": {
        "colab": {
          "base_uri": "https://localhost:8080/"
        },
        "id": "9hqk1ZjPRZp5",
        "outputId": "de2894e8-81e5-4f3f-91cf-5c390be1a45f"
      },
      "source": [
        "X.shape"
      ],
      "execution_count": null,
      "outputs": [
        {
          "output_type": "execute_result",
          "data": {
            "text/plain": [
              "(8451520, 7)"
            ]
          },
          "metadata": {
            "tags": []
          },
          "execution_count": 20
        }
      ]
    },
    {
      "cell_type": "markdown",
      "metadata": {
        "id": "2Q4VhFyztw6u"
      },
      "source": [
        "###One Hot Encoding\n"
      ]
    },
    {
      "cell_type": "code",
      "metadata": {
        "id": "akcbhkZrNin7"
      },
      "source": [
        "y_train = to_categorical(y_train, 3)\n",
        "y_test = to_categorical(y_test, 3)\n",
        "y_dev = to_categorical(y_dev, 3)"
      ],
      "execution_count": null,
      "outputs": []
    },
    {
      "cell_type": "code",
      "metadata": {
        "id": "QEqanVmBcSSJ"
      },
      "source": [
        ""
      ],
      "execution_count": null,
      "outputs": []
    },
    {
      "cell_type": "markdown",
      "metadata": {
        "id": "dwJ9tACHcUuV"
      },
      "source": [
        "# Multi Layer Perceptron Model"
      ]
    },
    {
      "cell_type": "markdown",
      "metadata": {
        "id": "26ACktnPcltR"
      },
      "source": [
        "### Model Building"
      ]
    },
    {
      "cell_type": "code",
      "metadata": {
        "id": "5plCrlrMRnqg"
      },
      "source": [
        "from tensorflow.keras import layers\n",
        "from tensorflow import keras\n",
        "\n",
        "model = keras.Sequential([\n",
        "  \n",
        "    layers.Dense(128, input_dim=7, activation='relu'),\n",
        "    layers.Dense(64, activation='relu'),\n",
        "    layers.Dense(64, activation='relu'),\n",
        "    layers.Dense(64, activation='relu'),\n",
        "    layers.Dense(3, activation='sigmoid'),\n",
        "])"
      ],
      "execution_count": null,
      "outputs": []
    },
    {
      "cell_type": "code",
      "metadata": {
        "colab": {
          "base_uri": "https://localhost:8080/"
        },
        "id": "4oC1JQMPmmAg",
        "outputId": "9ae67b77-c919-4553-aa90-a19b298cc0ef"
      },
      "source": [
        "model.summary()"
      ],
      "execution_count": null,
      "outputs": [
        {
          "output_type": "stream",
          "text": [
            "Model: \"sequential_1\"\n",
            "_________________________________________________________________\n",
            "Layer (type)                 Output Shape              Param #   \n",
            "=================================================================\n",
            "dense_5 (Dense)              (None, 128)               1024      \n",
            "_________________________________________________________________\n",
            "dense_6 (Dense)              (None, 64)                8256      \n",
            "_________________________________________________________________\n",
            "dense_7 (Dense)              (None, 64)                4160      \n",
            "_________________________________________________________________\n",
            "dense_8 (Dense)              (None, 64)                4160      \n",
            "_________________________________________________________________\n",
            "dense_9 (Dense)              (None, 3)                 195       \n",
            "=================================================================\n",
            "Total params: 17,795\n",
            "Trainable params: 17,795\n",
            "Non-trainable params: 0\n",
            "_________________________________________________________________\n"
          ],
          "name": "stdout"
        }
      ]
    },
    {
      "cell_type": "code",
      "metadata": {
        "id": "pMo1Hiltmyv6"
      },
      "source": [
        "model.compile(loss='categorical_crossentropy', optimizer='adam', metrics=['AUC','accuracy', 'Precision', 'Recall'])"
      ],
      "execution_count": null,
      "outputs": []
    },
    {
      "cell_type": "code",
      "metadata": {
        "id": "-vucwgDSdQVj"
      },
      "source": [
        ""
      ],
      "execution_count": null,
      "outputs": []
    },
    {
      "cell_type": "markdown",
      "metadata": {
        "id": "M7Qy_MxidR12"
      },
      "source": [
        "### Model Training"
      ]
    },
    {
      "cell_type": "code",
      "metadata": {
        "colab": {
          "base_uri": "https://localhost:8080/"
        },
        "id": "rrertX8Lp4D9",
        "outputId": "19826d66-fa14-483c-a21f-eb21515a94cc"
      },
      "source": [
        "history = model.fit(X_train, y_train, epochs=1, validation_data= (X_dev, y_dev))"
      ],
      "execution_count": null,
      "outputs": [
        {
          "output_type": "stream",
          "text": [
            "179595/179595 [==============================] - 821s 5ms/step - loss: 0.3321 - auc: 0.7731 - accuracy: 0.8999 - precision: 0.8632 - recall: 0.6133 - val_loss: 0.3067 - val_auc: 0.7823 - val_accuracy: 0.8998 - val_precision: 0.8730 - val_recall: 0.6558\n"
          ],
          "name": "stdout"
        }
      ]
    },
    {
      "cell_type": "markdown",
      "metadata": {
        "id": "8xx6ixURdaIv"
      },
      "source": [
        "### Training Performance Evalutaion"
      ]
    },
    {
      "cell_type": "code",
      "metadata": {
        "id": "uGFbxxfJpmWo",
        "colab": {
          "base_uri": "https://localhost:8080/",
          "height": 295
        },
        "outputId": "c027a686-a96d-49a1-abb8-88a5c9c763d7"
      },
      "source": [
        "plt.figure(figsize=(6, 4))\n",
        "plt.title(\"Learning curve\")\n",
        "plt.plot(history.history[\"loss\"], label=\"Training Loss\")\n",
        "plt.plot(history.history[\"val_loss\"], label=\"val_loss\")\n",
        "plt.plot( np.argmin(history.history[\"val_loss\"]), np.min(history.history[\"val_loss\"]), marker=\"x\", color=\"r\", label=\"best model\")\n",
        "plt.xlabel(\"Epochs\")\n",
        "plt.ylabel(\"log_loss\")\n",
        "plt.legend();"
      ],
      "execution_count": null,
      "outputs": [
        {
          "output_type": "display_data",
          "data": {
            "image/png": "[encoded data removed]",
            "text/plain": [
              "<Figure size 432x288 with 1 Axes>"
            ]
          },
          "metadata": {
            "tags": [],
            "needs_background": "light"
          }
        }
      ]
    },
    {
      "cell_type": "code",
      "metadata": {
        "colab": {
          "base_uri": "https://localhost:8080/",
          "height": 295
        },
        "id": "Dj15ZyOwblzV",
        "outputId": "86b89ba0-3115-4561-a1ce-704925867439"
      },
      "source": [
        "plt.figure(figsize=(6, 4))\n",
        "plt.plot(history.history['auc'])\n",
        "plt.plot(history.history['val_auc'])\n",
        "plt.plot( np.argmax(history.history[\"val_auc\"]), np.max(history.history[\"val_auc\"]), marker=\"x\", color=\"r\", label=\"best model\")\n",
        "plt.title('Model AUC')\n",
        "plt.ylabel('AUC Score')\n",
        "plt.xlabel('Epoch')\n",
        "plt.legend(['Train', 'Dev'], loc='upper left')\n",
        "plt.show()"
      ],
      "execution_count": null,
      "outputs": [
        {
          "output_type": "display_data",
          "data": {
            "image/png": "[encoded data removed]",
            "text/plain": [
              "<Figure size 432x288 with 1 Axes>"
            ]
          },
          "metadata": {
            "tags": [],
            "needs_background": "light"
          }
        }
      ]
    },
    {
      "cell_type": "code",
      "metadata": {
        "colab": {
          "base_uri": "https://localhost:8080/",
          "height": 295
        },
        "id": "R-ozuxErbpxu",
        "outputId": "f24dac77-9b03-423d-e26d-04d7e4acbf9a"
      },
      "source": [
        "plt.figure(figsize=(6, 4))\n",
        "plt.plot(history.history['precision'])\n",
        "plt.plot(history.history['val_precision'])\n",
        "plt.plot( np.argmax(history.history[\"val_precision\"]), np.max(history.history[\"val_precision\"]), marker=\"x\", color=\"r\", label=\"best model\")\n",
        "plt.title('Model Precision')\n",
        "plt.ylabel('Precision')\n",
        "plt.xlabel('Epoch')\n",
        "plt.legend(['Train', 'Dev'], loc='upper left')\n",
        "plt.show()"
      ],
      "execution_count": null,
      "outputs": [
        {
          "output_type": "display_data",
          "data": {
            "image/png": "[encoded data removed]",
            "text/plain": [
              "<Figure size 432x288 with 1 Axes>"
            ]
          },
          "metadata": {
            "tags": [],
            "needs_background": "light"
          }
        }
      ]
    },
    {
      "cell_type": "code",
      "metadata": {
        "colab": {
          "base_uri": "https://localhost:8080/",
          "height": 295
        },
        "id": "xkizgjrfb4Ir",
        "outputId": "c771324e-17a0-4f91-95a6-254cc307fd54"
      },
      "source": [
        "plt.figure(figsize=(6, 4))\n",
        "plt.plot(history.history['recall'])\n",
        "plt.plot(history.history['val_recall'])\n",
        "plt.plot( np.argmax(history.history[\"val_recall\"]), np.max(history.history[\"val_recall\"]), marker=\"x\", color=\"r\", label=\"best model\")\n",
        "plt.title('Model Recall')\n",
        "plt.ylabel('Recall')\n",
        "plt.xlabel('Epoch')\n",
        "plt.legend(['Train', 'Dev'], loc='upper left')\n",
        "plt.show()"
      ],
      "execution_count": null,
      "outputs": [
        {
          "output_type": "display_data",
          "data": {
            "image/png": "[encoded data removed]",
            "text/plain": [
              "<Figure size 432x288 with 1 Axes>"
            ]
          },
          "metadata": {
            "tags": [],
            "needs_background": "light"
          }
        }
      ]
    },
    {
      "cell_type": "code",
      "metadata": {
        "colab": {
          "base_uri": "https://localhost:8080/",
          "height": 295
        },
        "id": "KoQo-J8qb85f",
        "outputId": "e5629c2e-1adb-44f5-ec28-e05e7dc55462"
      },
      "source": [
        "plt.figure(figsize=(6, 4))\n",
        "plt.plot(history.history['accuracy'])\n",
        "plt.plot(history.history['val_accuracy'])\n",
        "plt.plot( np.argmax(history.history[\"val_accuracy\"]), np.max(history.history[\"val_accuracy\"]), marker=\"x\", color=\"g\", label=\"best model\")\n",
        "\n",
        "plt.title('Model Accuracy')\n",
        "plt.ylabel('Accuracy')\n",
        "plt.xlabel('Epoch')\n",
        "plt.legend(['Train', 'Dev'], loc='upper left')\n",
        "plt.show()"
      ],
      "execution_count": null,
      "outputs": [
        {
          "output_type": "display_data",
          "data": {
            "image/png": "[encoded data removed]",
            "text/plain": [
              "<Figure size 432x288 with 1 Axes>"
            ]
          },
          "metadata": {
            "tags": [],
            "needs_background": "light"
          }
        }
      ]
    },
    {
      "cell_type": "markdown",
      "metadata": {
        "id": "2c67g588dnh0"
      },
      "source": [
        "### Perfomance Evalution on Testing Data"
      ]
    },
    {
      "cell_type": "code",
      "metadata": {
        "colab": {
          "base_uri": "https://localhost:8080/"
        },
        "id": "JIrJoSFLdsJT",
        "outputId": "aafc6ea8-6c26-49a8-dc86-589684701fbe"
      },
      "source": [
        "model.evaluate(X_test,  y_test, verbose=1)"
      ],
      "execution_count": null,
      "outputs": [
        {
          "output_type": "stream",
          "text": [
            "52822/52822 [==============================] - 190s 4ms/step - loss: 0.3074 - auc: 0.7830 - accuracy: 0.8997 - precision: 0.8731 - recall: 0.6569\n"
          ],
          "name": "stdout"
        },
        {
          "output_type": "execute_result",
          "data": {
            "text/plain": [
              "[0.3074122667312622,\n",
              " 0.783013105392456,\n",
              " 0.8997334241867065,\n",
              " 0.8730521202087402,\n",
              " 0.6569480895996094]"
            ]
          },
          "metadata": {
            "tags": []
          },
          "execution_count": 42
        }
      ]
    },
    {
      "cell_type": "code",
      "metadata": {
        "id": "s_gleLJxd-2_"
      },
      "source": [
        ""
      ],
      "execution_count": null,
      "outputs": []
    }
  ]
}